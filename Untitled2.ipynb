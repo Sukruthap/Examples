{
 "cells": [
  {
   "cell_type": "code",
   "execution_count": 34,
   "metadata": {},
   "outputs": [],
   "source": [
    "data = \"{\\\"serializedTranscription\\\": [{\\\"dialogue\\\": \\\"NA\\\", \\\"speaker\\\": \\\"silence\\\", \\\"startTime\\\": 0, \\\"endTime\\\": 0.34}, {\\\"dialogue\\\": \\\"%HESITATION good afternoon you're through to technical support my name is Carlos are going to help you\\\", \\\"speaker\\\": \\\"spk1\\\", \\\"startTime\\\": 0.34, \\\"endTime\\\": 4.82}, {\\\"dialogue\\\": \\\"NA\\\", \\\"speaker\\\": \\\"silence\\\", \\\"startTime\\\": 4.82, \\\"endTime\\\": 5.13}, {\\\"dialogue\\\": \\\"kind of just asking me do you have any any\\\", \\\"speaker\\\": \\\"spk2\\\", \\\"startTime\\\": 5.13, \\\"endTime\\\": 7.08}, {\\\"dialogue\\\": \\\"NA\\\", \\\"speaker\\\": \\\"silence\\\", \\\"startTime\\\": 7.08, \\\"endTime\\\": 7.36}, {\\\"dialogue\\\": \\\"hello but I'm still moving your\\\", \\\"speaker\\\": \\\"spk1\\\", \\\"startTime\\\": 7.36, \\\"endTime\\\": 8.89}, {\\\"dialogue\\\": \\\"NA\\\", \\\"speaker\\\": \\\"silence\\\", \\\"startTime\\\": 8.89, \\\"endTime\\\": 9.2}, {\\\"dialogue\\\": \\\"yes fine thank you got to trust me calling up and I'll see one S. one fifty %HESITATION and they are asking for the iPhone eight %HESITATION and and %HESITATION nine S. five three seven one\\\", \\\"speaker\\\": \\\"spk2\\\", \\\"startTime\\\": 9.2, \\\"endTime\\\": 22.22}, {\\\"dialogue\\\": \\\"NA\\\", \\\"speaker\\\": \\\"silence\\\", \\\"startTime\\\": 22.22, \\\"endTime\\\": 22.81}, {\\\"dialogue\\\": \\\"%HESITATION\\\", \\\"speaker\\\": \\\"spk1\\\", \\\"startTime\\\": 22.81, \\\"endTime\\\": 23.24}, {\\\"dialogue\\\": \\\"NA\\\", \\\"speaker\\\": \\\"silence\\\", \\\"startTime\\\": 23.24, \\\"endTime\\\": 25.04}, {\\\"dialogue\\\": \\\"no that's either because it saying that let ME one eight five two two to sign\\\", \\\"speaker\\\": \\\"spk2\\\", \\\"startTime\\\": 25.04, \\\"endTime\\\": 29.03}, {\\\"dialogue\\\": \\\"NA\\\", \\\"speaker\\\": \\\"silence\\\", \\\"startTime\\\": 29.03, \\\"endTime\\\": 29.24}, {\\\"dialogue\\\": \\\"in focus is working %HESITATION so we'll do that %HESITATION for Robert to worry if you're welcome they'll see one F. one four zero\\\", \\\"speaker\\\": \\\"spk1\\\", \\\"startTime\\\": 29.24, \\\"endTime\\\": 34.77}, {\\\"dialogue\\\": \\\"NA\\\", \\\"speaker\\\": \\\"silence\\\", \\\"startTime\\\": 34.77, \\\"endTime\\\": 34.83}, {\\\"dialogue\\\": \\\"mmhm\\\", \\\"speaker\\\": \\\"spk2\\\", \\\"startTime\\\": 34.83, \\\"endTime\\\": 35.25}, {\\\"dialogue\\\": \\\"NA\\\", \\\"speaker\\\": \\\"silence\\\", \\\"startTime\\\": 35.25, \\\"endTime\\\": 35.58}, {\\\"dialogue\\\": \\\"why are you going to school we %HESITATION five three six nine five three six nine is adjustable %HESITATION between ninety to one hundred and fifty\\\", \\\"speaker\\\": \\\"spk1\\\", \\\"startTime\\\": 35.58, \\\"endTime\\\": 44.46}, {\\\"dialogue\\\": \\\"NA\\\", \\\"speaker\\\": \\\"silence\\\", \\\"startTime\\\": 44.46, \\\"endTime\\\": 44.68}, {\\\"dialogue\\\": \\\"yeah\\\", \\\"speaker\\\": \\\"spk2\\\", \\\"startTime\\\": 44.68, \\\"endTime\\\": 45.05}, {\\\"dialogue\\\": \\\"NA\\\", \\\"speaker\\\": \\\"silence\\\", \\\"startTime\\\": 45.05, \\\"endTime\\\": 45.34}, {\\\"dialogue\\\": \\\"and when I'm in fifty the maximum because\\\", \\\"speaker\\\": \\\"spk1\\\", \\\"startTime\\\": 45.34, \\\"endTime\\\": 47.13}, {\\\"dialogue\\\": \\\"NA\\\", \\\"speaker\\\": \\\"silence\\\", \\\"startTime\\\": 47.13, \\\"endTime\\\": 49.62}, {\\\"dialogue\\\": \\\"otherwise the contents to\\\", \\\"speaker\\\": \\\"spk2\\\", \\\"startTime\\\": 49.62, \\\"endTime\\\": 52.92}, {\\\"dialogue\\\": \\\"NA\\\", \\\"speaker\\\": \\\"silence\\\", \\\"startTime\\\": 52.92, \\\"endTime\\\": 53.15}, {\\\"dialogue\\\": \\\"yep\\\", \\\"speaker\\\": \\\"spk1\\\", \\\"startTime\\\": 53.15, \\\"endTime\\\": 53.56}, {\\\"dialogue\\\": \\\"NA\\\", \\\"speaker\\\": \\\"silence\\\", \\\"startTime\\\": 53.56, \\\"endTime\\\": 53.85}, {\\\"dialogue\\\": \\\"yeah okay all right and if I feel that I thought that check it that's not a problem right yes no that would best be certain events or something I K. that set up today thank you very much\\\", \\\"speaker\\\": \\\"spk2\\\", \\\"startTime\\\": 53.85, \\\"endTime\\\": 70.0}, {\\\"dialogue\\\": \\\"NA\\\", \\\"speaker\\\": \\\"silence\\\", \\\"startTime\\\": 70.0, \\\"endTime\\\": 75.0}]}\"\n",
    "     "
   ]
  },
  {
   "cell_type": "code",
   "execution_count": 35,
   "metadata": {},
   "outputs": [
    {
     "name": "stdout",
     "output_type": "stream",
     "text": [
      "{\"serializedTranscription\": [{\"dialogue\": \"NA\", \"speaker\": \"silence\", \"startTime\": 0, \"endTime\": 0.34}, {\"dialogue\": \"%HESITATION good afternoon you're through to technical support my name is Carlos are going to help you\", \"speaker\": \"spk1\", \"startTime\": 0.34, \"endTime\": 4.82}, {\"dialogue\": \"NA\", \"speaker\": \"silence\", \"startTime\": 4.82, \"endTime\": 5.13}, {\"dialogue\": \"kind of just asking me do you have any any\", \"speaker\": \"spk2\", \"startTime\": 5.13, \"endTime\": 7.08}, {\"dialogue\": \"NA\", \"speaker\": \"silence\", \"startTime\": 7.08, \"endTime\": 7.36}, {\"dialogue\": \"hello but I'm still moving your\", \"speaker\": \"spk1\", \"startTime\": 7.36, \"endTime\": 8.89}, {\"dialogue\": \"NA\", \"speaker\": \"silence\", \"startTime\": 8.89, \"endTime\": 9.2}, {\"dialogue\": \"yes fine thank you got to trust me calling up and I'll see one S. one fifty %HESITATION and they are asking for the iPhone eight %HESITATION and and %HESITATION nine S. five three seven one\", \"speaker\": \"spk2\", \"startTime\": 9.2, \"endTime\": 22.22}, {\"dialogue\": \"NA\", \"speaker\": \"silence\", \"startTime\": 22.22, \"endTime\": 22.81}, {\"dialogue\": \"%HESITATION\", \"speaker\": \"spk1\", \"startTime\": 22.81, \"endTime\": 23.24}, {\"dialogue\": \"NA\", \"speaker\": \"silence\", \"startTime\": 23.24, \"endTime\": 25.04}, {\"dialogue\": \"no that's either because it saying that let ME one eight five two two to sign\", \"speaker\": \"spk2\", \"startTime\": 25.04, \"endTime\": 29.03}, {\"dialogue\": \"NA\", \"speaker\": \"silence\", \"startTime\": 29.03, \"endTime\": 29.24}, {\"dialogue\": \"in focus is working %HESITATION so we'll do that %HESITATION for Robert to worry if you're welcome they'll see one F. one four zero\", \"speaker\": \"spk1\", \"startTime\": 29.24, \"endTime\": 34.77}, {\"dialogue\": \"NA\", \"speaker\": \"silence\", \"startTime\": 34.77, \"endTime\": 34.83}, {\"dialogue\": \"mmhm\", \"speaker\": \"spk2\", \"startTime\": 34.83, \"endTime\": 35.25}, {\"dialogue\": \"NA\", \"speaker\": \"silence\", \"startTime\": 35.25, \"endTime\": 35.58}, {\"dialogue\": \"why are you going to school we %HESITATION five three six nine five three six nine is adjustable %HESITATION between ninety to one hundred and fifty\", \"speaker\": \"spk1\", \"startTime\": 35.58, \"endTime\": 44.46}, {\"dialogue\": \"NA\", \"speaker\": \"silence\", \"startTime\": 44.46, \"endTime\": 44.68}, {\"dialogue\": \"yeah\", \"speaker\": \"spk2\", \"startTime\": 44.68, \"endTime\": 45.05}, {\"dialogue\": \"NA\", \"speaker\": \"silence\", \"startTime\": 45.05, \"endTime\": 45.34}, {\"dialogue\": \"and when I'm in fifty the maximum because\", \"speaker\": \"spk1\", \"startTime\": 45.34, \"endTime\": 47.13}, {\"dialogue\": \"NA\", \"speaker\": \"silence\", \"startTime\": 47.13, \"endTime\": 49.62}, {\"dialogue\": \"otherwise the contents to\", \"speaker\": \"spk2\", \"startTime\": 49.62, \"endTime\": 52.92}, {\"dialogue\": \"NA\", \"speaker\": \"silence\", \"startTime\": 52.92, \"endTime\": 53.15}, {\"dialogue\": \"yep\", \"speaker\": \"spk1\", \"startTime\": 53.15, \"endTime\": 53.56}, {\"dialogue\": \"NA\", \"speaker\": \"silence\", \"startTime\": 53.56, \"endTime\": 53.85}, {\"dialogue\": \"yeah okay all right and if I feel that I thought that check it that's not a problem right yes no that would best be certain events or something I K. that set up today thank you very much\", \"speaker\": \"spk2\", \"startTime\": 53.85, \"endTime\": 70.0}, {\"dialogue\": \"NA\", \"speaker\": \"silence\", \"startTime\": 70.0, \"endTime\": 75.0}]}\n"
     ]
    }
   ],
   "source": [
    "print(data)"
   ]
  },
  {
   "cell_type": "code",
   "execution_count": 36,
   "metadata": {},
   "outputs": [],
   "source": [
    "import json"
   ]
  },
  {
   "cell_type": "code",
   "execution_count": 37,
   "metadata": {},
   "outputs": [],
   "source": [
    "serial_trans = json.loads(data)"
   ]
  },
  {
   "cell_type": "code",
   "execution_count": 38,
   "metadata": {},
   "outputs": [
    {
     "name": "stdout",
     "output_type": "stream",
     "text": [
      "{'serializedTranscription': [{'dialogue': 'NA', 'speaker': 'silence', 'startTime': 0, 'endTime': 0.34}, {'dialogue': \"%HESITATION good afternoon you're through to technical support my name is Carlos are going to help you\", 'speaker': 'spk1', 'startTime': 0.34, 'endTime': 4.82}, {'dialogue': 'NA', 'speaker': 'silence', 'startTime': 4.82, 'endTime': 5.13}, {'dialogue': 'kind of just asking me do you have any any', 'speaker': 'spk2', 'startTime': 5.13, 'endTime': 7.08}, {'dialogue': 'NA', 'speaker': 'silence', 'startTime': 7.08, 'endTime': 7.36}, {'dialogue': \"hello but I'm still moving your\", 'speaker': 'spk1', 'startTime': 7.36, 'endTime': 8.89}, {'dialogue': 'NA', 'speaker': 'silence', 'startTime': 8.89, 'endTime': 9.2}, {'dialogue': \"yes fine thank you got to trust me calling up and I'll see one S. one fifty %HESITATION and they are asking for the iPhone eight %HESITATION and and %HESITATION nine S. five three seven one\", 'speaker': 'spk2', 'startTime': 9.2, 'endTime': 22.22}, {'dialogue': 'NA', 'speaker': 'silence', 'startTime': 22.22, 'endTime': 22.81}, {'dialogue': '%HESITATION', 'speaker': 'spk1', 'startTime': 22.81, 'endTime': 23.24}, {'dialogue': 'NA', 'speaker': 'silence', 'startTime': 23.24, 'endTime': 25.04}, {'dialogue': \"no that's either because it saying that let ME one eight five two two to sign\", 'speaker': 'spk2', 'startTime': 25.04, 'endTime': 29.03}, {'dialogue': 'NA', 'speaker': 'silence', 'startTime': 29.03, 'endTime': 29.24}, {'dialogue': \"in focus is working %HESITATION so we'll do that %HESITATION for Robert to worry if you're welcome they'll see one F. one four zero\", 'speaker': 'spk1', 'startTime': 29.24, 'endTime': 34.77}, {'dialogue': 'NA', 'speaker': 'silence', 'startTime': 34.77, 'endTime': 34.83}, {'dialogue': 'mmhm', 'speaker': 'spk2', 'startTime': 34.83, 'endTime': 35.25}, {'dialogue': 'NA', 'speaker': 'silence', 'startTime': 35.25, 'endTime': 35.58}, {'dialogue': 'why are you going to school we %HESITATION five three six nine five three six nine is adjustable %HESITATION between ninety to one hundred and fifty', 'speaker': 'spk1', 'startTime': 35.58, 'endTime': 44.46}, {'dialogue': 'NA', 'speaker': 'silence', 'startTime': 44.46, 'endTime': 44.68}, {'dialogue': 'yeah', 'speaker': 'spk2', 'startTime': 44.68, 'endTime': 45.05}, {'dialogue': 'NA', 'speaker': 'silence', 'startTime': 45.05, 'endTime': 45.34}, {'dialogue': \"and when I'm in fifty the maximum because\", 'speaker': 'spk1', 'startTime': 45.34, 'endTime': 47.13}, {'dialogue': 'NA', 'speaker': 'silence', 'startTime': 47.13, 'endTime': 49.62}, {'dialogue': 'otherwise the contents to', 'speaker': 'spk2', 'startTime': 49.62, 'endTime': 52.92}, {'dialogue': 'NA', 'speaker': 'silence', 'startTime': 52.92, 'endTime': 53.15}, {'dialogue': 'yep', 'speaker': 'spk1', 'startTime': 53.15, 'endTime': 53.56}, {'dialogue': 'NA', 'speaker': 'silence', 'startTime': 53.56, 'endTime': 53.85}, {'dialogue': \"yeah okay all right and if I feel that I thought that check it that's not a problem right yes no that would best be certain events or something I K. that set up today thank you very much\", 'speaker': 'spk2', 'startTime': 53.85, 'endTime': 70.0}, {'dialogue': 'NA', 'speaker': 'silence', 'startTime': 70.0, 'endTime': 75.0}]}\n"
     ]
    }
   ],
   "source": [
    "print(serial_trans)"
   ]
  },
  {
   "cell_type": "code",
   "execution_count": 44,
   "metadata": {},
   "outputs": [
    {
     "name": "stdout",
     "output_type": "stream",
     "text": [
      "%HESITATION good afternoon you're through to technical support my name is Carlos are going to help you\n",
      "kind of just asking me do you have any any\n",
      "hello but I'm still moving your\n",
      "yes fine thank you got to trust me calling up and I'll see one S. one fifty %HESITATION and they are asking for the iPhone eight %HESITATION and and %HESITATION nine S. five three seven one\n",
      "%HESITATION\n",
      "no that's either because it saying that let ME one eight five two two to sign\n",
      "in focus is working %HESITATION so we'll do that %HESITATION for Robert to worry if you're welcome they'll see one F. one four zero\n",
      "mmhm\n",
      "why are you going to school we %HESITATION five three six nine five three six nine is adjustable %HESITATION between ninety to one hundred and fifty\n",
      "yeah\n",
      "and when I'm in fifty the maximum because\n",
      "otherwise the contents to\n",
      "yep\n",
      "yeah okay all right and if I feel that I thought that check it that's not a problem right yes no that would best be certain events or something I K. that set up today thank you very much\n",
      "[OrderedDict([('speaker', 'spk1'), ('dialogue', \" good afternoon you're through to technical support my name is Carlos are going to help you\")]), OrderedDict([('speaker', 'spk2'), ('dialogue', 'kind of just asking me do you have any any')]), OrderedDict([('speaker', 'spk1'), ('dialogue', \"hello but I'm still moving your\")]), OrderedDict([('speaker', 'spk2'), ('dialogue', \"yes fine thank you got to trust me calling up and I'll see one S. one fifty  and they are asking for the iPhone eight  and and  nine S. five three seven one\")]), OrderedDict([('speaker', 'spk1'), ('dialogue', '')]), OrderedDict([('speaker', 'spk2'), ('dialogue', \"no that's either because it saying that let ME one eight five two two to sign\")]), OrderedDict([('speaker', 'spk1'), ('dialogue', \"in focus is working  so we'll do that  for Robert to worry if you're welcome they'll see one F. one four zero\")]), OrderedDict([('speaker', 'spk2'), ('dialogue', 'mmhm')]), OrderedDict([('speaker', 'spk1'), ('dialogue', 'why are you going to school we  five three six nine five three six nine is adjustable  between ninety to one hundred and fifty')]), OrderedDict([('speaker', 'spk2'), ('dialogue', 'yeah')]), OrderedDict([('speaker', 'spk1'), ('dialogue', \"and when I'm in fifty the maximum because\")]), OrderedDict([('speaker', 'spk2'), ('dialogue', 'otherwise the contents to')]), OrderedDict([('speaker', 'spk1'), ('dialogue', 'yep')]), OrderedDict([('speaker', 'spk2'), ('dialogue', \"yeah okay all right and if I feel that I thought that check it that's not a problem right yes no that would best be certain events or something I K. that set up today thank you very much\")])]\n"
     ]
    }
   ],
   "source": [
    "from collections import OrderedDict\n",
    "import re\n",
    "newli = []\n",
    "for se_tra in serial_trans['serializedTranscription']:\n",
    "    newdict = OrderedDict()\n",
    "    if se_tra['speaker'] != 'silence':\n",
    "#         print(se_tra['speaker'])\n",
    "        print(se_tra['dialogue'])\n",
    "        newdict['speaker'] = se_tra['speaker']\n",
    "#         dialog = re.sub(r'%\\S+ ', r'', se_tra['dialogue'])\n",
    "        dialog = se_tra['dialogue'].replace(\"%HESITATION\", \"\")\n",
    "        newdict['dialogue'] = dialog\n",
    "        newli.append(newdict)\n",
    "print(newli)"
   ]
  },
  {
   "cell_type": "code",
   "execution_count": 45,
   "metadata": {},
   "outputs": [],
   "source": [
    "res = json.dumps(newli)"
   ]
  },
  {
   "cell_type": "code",
   "execution_count": 46,
   "metadata": {},
   "outputs": [
    {
     "name": "stdout",
     "output_type": "stream",
     "text": [
      "[{\"speaker\": \"spk1\", \"dialogue\": \" good afternoon you're through to technical support my name is Carlos are going to help you\"}, {\"speaker\": \"spk2\", \"dialogue\": \"kind of just asking me do you have any any\"}, {\"speaker\": \"spk1\", \"dialogue\": \"hello but I'm still moving your\"}, {\"speaker\": \"spk2\", \"dialogue\": \"yes fine thank you got to trust me calling up and I'll see one S. one fifty  and they are asking for the iPhone eight  and and  nine S. five three seven one\"}, {\"speaker\": \"spk1\", \"dialogue\": \"\"}, {\"speaker\": \"spk2\", \"dialogue\": \"no that's either because it saying that let ME one eight five two two to sign\"}, {\"speaker\": \"spk1\", \"dialogue\": \"in focus is working  so we'll do that  for Robert to worry if you're welcome they'll see one F. one four zero\"}, {\"speaker\": \"spk2\", \"dialogue\": \"mmhm\"}, {\"speaker\": \"spk1\", \"dialogue\": \"why are you going to school we  five three six nine five three six nine is adjustable  between ninety to one hundred and fifty\"}, {\"speaker\": \"spk2\", \"dialogue\": \"yeah\"}, {\"speaker\": \"spk1\", \"dialogue\": \"and when I'm in fifty the maximum because\"}, {\"speaker\": \"spk2\", \"dialogue\": \"otherwise the contents to\"}, {\"speaker\": \"spk1\", \"dialogue\": \"yep\"}, {\"speaker\": \"spk2\", \"dialogue\": \"yeah okay all right and if I feel that I thought that check it that's not a problem right yes no that would best be certain events or something I K. that set up today thank you very much\"}]\n"
     ]
    }
   ],
   "source": [
    "print(res)"
   ]
  },
  {
   "cell_type": "code",
   "execution_count": null,
   "metadata": {},
   "outputs": [],
   "source": []
  }
 ],
 "metadata": {
  "kernelspec": {
   "display_name": "Python 3",
   "language": "python",
   "name": "python3"
  },
  "language_info": {
   "codemirror_mode": {
    "name": "ipython",
    "version": 3
   },
   "file_extension": ".py",
   "mimetype": "text/x-python",
   "name": "python",
   "nbconvert_exporter": "python",
   "pygments_lexer": "ipython3",
   "version": "3.6.8"
  }
 },
 "nbformat": 4,
 "nbformat_minor": 2
}

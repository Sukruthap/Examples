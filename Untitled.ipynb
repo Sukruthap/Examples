{
 "cells": [
  {
   "cell_type": "code",
   "execution_count": 6,
   "metadata": {},
   "outputs": [],
   "source": [
    "\n",
    "data1 = [\n",
    "  \"2c0fc790-e6f8-4d0a-bac3-6fa47df42907\",\n",
    "  \"bd93f21a-8fd0-42a7-a3cc-54730b91bc8f\",\n",
    "  \"ad9e3479-c971-4798-9d49-ce637360d9b1\",\n",
    "  \"a6ece41c-8eb5-41e4-a375-a382bba0f8d6\",\n",
    "  \"9de4a256-a80e-4235-8240-d187bd9a6776\",\n",
    "  \"b292a358-8445-468c-a142-7e5d9fba5886\",\n",
    "  \"07150b8e-d568-4773-95c4-1f5e7ca412b3\",\n",
    "  \"ba94dc12-06aa-405d-8116-54b2565859d5\",\n",
    "  \"286d1001-19a9-4c4b-b254-03b85ffff644\",\n",
    "  \"ef469f7a-74e1-4aba-b7b7-cb298a99a6d9\",\n",
    "  \"754ee7b5-d39c-46d0-9d08-9ca039207f5a\",\n",
    "  \"87dffe27-59b0-4eec-850e-90646f21adab\",\n",
    "  \"0e5712dc-7c31-49a4-a179-666663ae209d\",\n",
    "  \"7ea36d36-3700-4012-b901-56e1486b3f3e\",\n",
    "  \"0341ca14-c8c3-4dc8-b07f-7c24088529cb\"\n",
    "]\n"
   ]
  },
  {
   "cell_type": "code",
   "execution_count": 7,
   "metadata": {},
   "outputs": [],
   "source": [
    "data2 = [\n",
    "  \"286d1001-19a9-4c4b-b254-03b85ffff644\",\n",
    "  \"a6ece41c-8eb5-41e4-a375-a382bba0f8d6\",\n",
    "  \"07150b8e-d568-4773-95c4-1f5e7ca412b3\",\n",
    "  \"2c0fc790-e6f8-4d0a-bac3-6fa47df42907\",\n",
    "  \"bd93f21a-8fd0-42a7-a3cc-54730b91bc8f\"\n",
    "]"
   ]
  },
  {
   "cell_type": "code",
   "execution_count": 11,
   "metadata": {},
   "outputs": [
    {
     "data": {
      "text/plain": [
       "['754ee7b5-d39c-46d0-9d08-9ca039207f5a',\n",
       " 'ad9e3479-c971-4798-9d49-ce637360d9b1',\n",
       " '9de4a256-a80e-4235-8240-d187bd9a6776',\n",
       " 'ba94dc12-06aa-405d-8116-54b2565859d5',\n",
       " 'ef469f7a-74e1-4aba-b7b7-cb298a99a6d9',\n",
       " '0e5712dc-7c31-49a4-a179-666663ae209d',\n",
       " '0341ca14-c8c3-4dc8-b07f-7c24088529cb',\n",
       " '87dffe27-59b0-4eec-850e-90646f21adab',\n",
       " 'b292a358-8445-468c-a142-7e5d9fba5886',\n",
       " '7ea36d36-3700-4012-b901-56e1486b3f3e']"
      ]
     },
     "execution_count": 11,
     "metadata": {},
     "output_type": "execute_result"
    }
   ],
   "source": [
    "# [i for i, j in zip(data1, data2) if i != j]\n",
    "list(set(data1) - set(data2))"
   ]
  },
  {
   "cell_type": "code",
   "execution_count": 10,
   "metadata": {},
   "outputs": [
    {
     "data": {
      "text/plain": [
       "['2c0fc790-e6f8-4d0a-bac3-6fa47df42907',\n",
       " 'bd93f21a-8fd0-42a7-a3cc-54730b91bc8f',\n",
       " 'ad9e3479-c971-4798-9d49-ce637360d9b1',\n",
       " 'a6ece41c-8eb5-41e4-a375-a382bba0f8d6',\n",
       " '9de4a256-a80e-4235-8240-d187bd9a6776']"
      ]
     },
     "execution_count": 10,
     "metadata": {},
     "output_type": "execute_result"
    }
   ],
   "source": [
    "[i for i, j in zip(data1, data2) if i != j]"
   ]
  },
  {
   "cell_type": "code",
   "execution_count": null,
   "metadata": {},
   "outputs": [],
   "source": []
  }
 ],
 "metadata": {
  "kernelspec": {
   "display_name": "Python 3",
   "language": "python",
   "name": "python3"
  },
  "language_info": {
   "codemirror_mode": {
    "name": "ipython",
    "version": 3
   },
   "file_extension": ".py",
   "mimetype": "text/x-python",
   "name": "python",
   "nbconvert_exporter": "python",
   "pygments_lexer": "ipython3",
   "version": "3.6.8"
  }
 },
 "nbformat": 4,
 "nbformat_minor": 2
}

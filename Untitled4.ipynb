{
 "cells": [
  {
   "cell_type": "code",
   "execution_count": 8,
   "metadata": {},
   "outputs": [],
   "source": [
    "fun = [\n",
    "        {\n",
    "            \"agent_id\": \"2\",\n",
    "            \"audio_id\": \"030222f6-8dce-4a6c-89b0-81fb7da4eb65\",\n",
    "            \"call_type\": \"settlement\",\n",
    "            \"keywords\": [\n",
    "                \"discount\",\n",
    "                \"more\"\n",
    "            ],\n",
    "            \"file_name\": \"out-8650125702603-4257-20190301-123925-1551415165.220044_Jye0RsU_H8ULBCJ.wav\",\n",
    "            \"duration\": \"\",\n",
    "            \"date\": \"2019-09-27\",\n",
    "            \"intent\": {\n",
    "                \"negative\": 0.6517118028771512\n",
    "            }\n",
    "        },\n",
    "        {\n",
    "            \"agent_id\": \"2\",\n",
    "            \"audio_id\": \"b02ae2c3-a83e-4085-ac8c-b09c21823a24\",\n",
    "            \"call_type\": \"settlement\",\n",
    "            \"keywords\": [\n",
    "                \"discount\",\n",
    "                \"more\",\n",
    "                \"payment\",\n",
    "                \"successful\"\n",
    "            ],\n",
    "            \"file_name\": \"out-90175167485-4380-20190401-172746-1554110866.227793_3_person_call_SQJRLjR.wav\",\n",
    "            \"duration\": \"\",\n",
    "            \"date\": \"2019-09-27\",\n",
    "            \"intent\": {\n",
    "                \"positive\": 0.5547043291906828\n",
    "            }\n",
    "        }\n",
    "    ]"
   ]
  },
  {
   "cell_type": "code",
   "execution_count": 9,
   "metadata": {},
   "outputs": [
    {
     "name": "stdout",
     "output_type": "stream",
     "text": [
      "[{'agent_id': '2', 'audio_id': '030222f6-8dce-4a6c-89b0-81fb7da4eb65', 'call_type': 'settlement', 'keywords': ['discount', 'more'], 'file_name': 'out-8650125702603-4257-20190301-123925-1551415165.220044_Jye0RsU_H8ULBCJ.wav', 'duration': '', 'date': '2019-09-27', 'intent': {'negative': 0.6517118028771512}}, {'agent_id': '2', 'audio_id': 'b02ae2c3-a83e-4085-ac8c-b09c21823a24', 'call_type': 'settlement', 'keywords': ['discount', 'more', 'payment', 'successful'], 'file_name': 'out-90175167485-4380-20190401-172746-1554110866.227793_3_person_call_SQJRLjR.wav', 'duration': '', 'date': '2019-09-27', 'intent': {'positive': 0.5547043291906828}}]\n"
     ]
    }
   ],
   "source": [
    "print(fun)"
   ]
  },
  {
   "cell_type": "code",
   "execution_count": 114,
   "metadata": {},
   "outputs": [
    {
     "name": "stdout",
     "output_type": "stream",
     "text": [
      "{'negative': 0.6517118028771512}\n",
      "0\n",
      "{'positive': 0.5547043291906828}\n",
      "1\n",
      "[]\n"
     ]
    }
   ],
   "source": [
    "from collections import OrderedDict\n",
    "final_li = []\n",
    "for i in range(len(fun)):\n",
    "    print(fun[i]['intent'])\n",
    "    print(i)\n",
    "    if fun[i]['intent'].keys() == 'positive':\n",
    "        newdict = OrderedDict()\n",
    "        final_li.append(i)\n",
    "print(final_li)"
   ]
  },
  {
   "cell_type": "code",
   "execution_count": 14,
   "metadata": {},
   "outputs": [],
   "source": [
    "li = [1,2,3,4]"
   ]
  },
  {
   "cell_type": "code",
   "execution_count": 16,
   "metadata": {},
   "outputs": [
    {
     "data": {
      "text/plain": [
       "[5, 1, 2, 3, 4]"
      ]
     },
     "execution_count": 16,
     "metadata": {},
     "output_type": "execute_result"
    }
   ],
   "source": [
    "[5] + li"
   ]
  },
  {
   "cell_type": "code",
   "execution_count": 17,
   "metadata": {},
   "outputs": [
    {
     "data": {
      "text/plain": [
       "[1, 2, 3, 4, 5]"
      ]
     },
     "execution_count": 17,
     "metadata": {},
     "output_type": "execute_result"
    }
   ],
   "source": [
    "li + [5]"
   ]
  },
  {
   "cell_type": "code",
   "execution_count": 18,
   "metadata": {},
   "outputs": [
    {
     "data": {
      "text/plain": [
       "[6, 1, 2, 3, 4]"
      ]
     },
     "execution_count": 18,
     "metadata": {},
     "output_type": "execute_result"
    }
   ],
   "source": [
    "[6] + li"
   ]
  }
 ],
 "metadata": {
  "kernelspec": {
   "display_name": "Python 3",
   "language": "python",
   "name": "python3"
  },
  "language_info": {
   "codemirror_mode": {
    "name": "ipython",
    "version": 3
   },
   "file_extension": ".py",
   "mimetype": "text/x-python",
   "name": "python",
   "nbconvert_exporter": "python",
   "pygments_lexer": "ipython3",
   "version": "3.6.8"
  }
 },
 "nbformat": 4,
 "nbformat_minor": 2
}
